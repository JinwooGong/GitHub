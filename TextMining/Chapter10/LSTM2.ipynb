{
 "cells": [
  {
   "cell_type": "markdown",
   "metadata": {},
   "source": [
    "# 메모리 네트워크를 사용해 에피소드 데이터에 대한 질의 응답"
   ]
  },
  {
   "cell_type": "code",
   "execution_count": null,
   "metadata": {},
   "outputs": [],
   "source": [
    "import keras\n",
    "import tensorflow\n",
    "print(keras.__version__, tensorflow.__version__)"
   ]
  },
  {
   "cell_type": "code",
   "execution_count": 1,
   "metadata": {},
   "outputs": [],
   "source": [
    "from __future__ import division, print_function\n",
    "\n",
    "import collections\n",
    "import itertools\n",
    "import nltk\n",
    "import numpy as np\n",
    "import matplotlib.pyplot as plt\n",
    "import os\n",
    "import random"
   ]
  },
  {
   "cell_type": "code",
   "execution_count": 2,
   "metadata": {},
   "outputs": [],
   "source": [
    "def get_data(infile):\n",
    "    stories, questions, answers = [], [], []\n",
    "    story_text = []\n",
    "    fin = open(Train_File, \"rb\")\n",
    "    for line in fin:\n",
    "        line = line.decode(\"utf-8\").strip()\n",
    "        lno, text = line.split(\" \", 1)\n",
    "        if \"\\t\" in text:\n",
    "            question, answer, _ = text.split(\"\\t\")\n",
    "            stories.append(story_text)\n",
    "            questions.append(question)\n",
    "            answers.append(answer)\n",
    "            story_text = []\n",
    "        else:\n",
    "            story_text.append(text)\n",
    "    fin.close()\n",
    "    return stories, questions, answers"
   ]
  },
  {
   "cell_type": "code",
   "execution_count": 3,
   "metadata": {},
   "outputs": [
    {
     "name": "stdout",
     "output_type": "stream",
     "text": [
      "\n",
      "\n",
      "Train observations: 10000 Test observations: 10000 \n",
      "\n",
      "\n"
     ]
    }
   ],
   "source": [
    "file_location = \"./\"\n",
    "Train_File = os.path.join(file_location, \"qa1_single-supporting-fact_train.txt\")\n",
    "Test_File = os.path.join(file_location, \"qa1_single-supporting-fact_test.txt\")\n",
    "\n",
    "# 데이터 가져오기\n",
    "data_train = get_data(Train_File)\n",
    "data_test = get_data(Test_File)\n",
    "\n",
    "print(\"\\n\\nTrain observations:\",len(data_train[0]),\"Test observations:\", len(data_test[0]),\"\\n\\n\")"
   ]
  },
  {
   "cell_type": "code",
   "execution_count": 4,
   "metadata": {},
   "outputs": [
    {
     "name": "stdout",
     "output_type": "stream",
     "text": [
      "vocabulary size: 22\n"
     ]
    }
   ],
   "source": [
    "# 학습 및 테스트 데이터에서 Vocab 딕셔너리 구축\n",
    "dictnry = collections.Counter()\n",
    "for stories,questions,answers in [data_train,data_test]:\n",
    "    for story in stories:\n",
    "        for sent in story:\n",
    "            for word in nltk.word_tokenize(sent):\n",
    "                dictnry[word.lower()] +=1\n",
    "    for question in questions:\n",
    "        for word in nltk.word_tokenize(question):\n",
    "            dictnry[word.lower()]+=1\n",
    "    for answer in answers:\n",
    "        for word in nltk.word_tokenize(answer):\n",
    "            dictnry[word.lower()]+=1\n",
    "                \n",
    "word2indx = {w:(i+1) for i,(w,_) in enumerate(dictnry.most_common())}\n",
    "\n",
    "word2indx[\"PAD\"] = 0\n",
    "indx2word = {v:k for k,v in word2indx.items()}\n",
    "\n",
    "vocab_size = len(word2indx)\n",
    "print(\"vocabulary size:\",len(word2indx))"
   ]
  },
  {
   "cell_type": "code",
   "execution_count": 5,
   "metadata": {},
   "outputs": [
    {
     "name": "stdout",
     "output_type": "stream",
     "text": [
      "Story maximum length: 14 Question maximum length: 4\n"
     ]
    }
   ],
   "source": [
    "# 각 엔티티의 최대 시퀀스 길이 계산\n",
    "story_maxlen = 0\n",
    "question_maxlen = 0\n",
    "for stories, questions, answers in [data_train,data_test]:\n",
    "    for story in stories:\n",
    "        story_len = 0\n",
    "        for sent in story:\n",
    "            swords = nltk.word_tokenize(sent)\n",
    "            story_len += len(swords)\n",
    "        if story_len > story_maxlen:\n",
    "            story_maxlen = story_len\n",
    "    for question in questions:\n",
    "        question_len = len(nltk.word_tokenize(question))\n",
    "        if question_len > question_maxlen:\n",
    "            question_maxlen = question_len\n",
    "            \n",
    "print (\"Story maximum length:\",story_maxlen,\"Question maximum length:\",question_maxlen)"
   ]
  },
  {
   "cell_type": "code",
   "execution_count": 6,
   "metadata": {},
   "outputs": [
    {
     "name": "stderr",
     "output_type": "stream",
     "text": [
      "Using TensorFlow backend.\n"
     ]
    }
   ],
   "source": [
    "from keras.layers import Input\n",
    "from keras.layers.core import Activation, Dense, Dropout, Permute\n",
    "from keras.layers.embeddings import Embedding\n",
    "from keras.layers.merge import add, concatenate, dot\n",
    "from keras.layers.recurrent import LSTM\n",
    "from keras.models import Model\n",
    "from keras.preprocessing.sequence import pad_sequences\n",
    "from keras.utils import np_utils"
   ]
  },
  {
   "cell_type": "code",
   "execution_count": 7,
   "metadata": {},
   "outputs": [],
   "source": [
    "# 데이터를 벡터화된 형태로 변환\n",
    "def data_vectorization(data, word2indx, story_maxlen, question_maxlen):\n",
    "    Xs, Xq, Y = [], [], []\n",
    "    stories, questions, answers = data\n",
    "    \n",
    "    for story, question, answer in zip(stories, questions, answers):\n",
    "        xs = [[word2indx[w.lower()] for w in nltk.word_tokenize(s)] for s in story]\n",
    "        xs = list(itertools.chain.from_iterable(xs))\n",
    "        xq = [word2indx[w.lower()] for w in nltk.word_tokenize(question)]\n",
    "        Xs.append(xs)\n",
    "        Xq.append(xq)\n",
    "        Y.append(word2indx[answer.lower()])\n",
    "        \n",
    "    return pad_sequences(Xs, maxlen=story_maxlen), pad_sequences(Xq, maxlen=question_maxlen), np_utils.to_categorical(Y, num_classes=len(word2indx))"
   ]
  },
  {
   "cell_type": "code",
   "execution_count": 8,
   "metadata": {},
   "outputs": [
    {
     "name": "stdout",
     "output_type": "stream",
     "text": [
      "Train story (10000, 14) Train question (10000, 4) Train answer (10000, 22)\n",
      "Test story (10000, 14) Test question (10000, 4) Test answer (10000, 22)\n"
     ]
    }
   ],
   "source": [
    "Xstrain, Xqtrain, Ytrain = data_vectorization(data_train, word2indx, story_maxlen, question_maxlen)\n",
    "Xstest, Xqtest, Ytest = data_vectorization(data_test, word2indx, story_maxlen, question_maxlen)\n",
    "\n",
    "print(\"Train story\", Xstrain.shape, \"Train question\", Xqtrain.shape,\"Train answer\", Ytrain.shape)\n",
    "print(\"Test story\", Xstest.shape, \"Test question\", Xqtest.shape, \"Test answer\", Ytest.shape)"
   ]
  },
  {
   "cell_type": "code",
   "execution_count": 9,
   "metadata": {},
   "outputs": [],
   "source": [
    "# 모델 파라미터\n",
    "EMBEDDING_SIZE = 128\n",
    "LATENT_SIZE = 64\n",
    "BATCH_SIZE = 64\n",
    "NUM_EPOCHS = 40"
   ]
  },
  {
   "cell_type": "code",
   "execution_count": 10,
   "metadata": {},
   "outputs": [
    {
     "name": "stdout",
     "output_type": "stream",
     "text": [
      "Model: \"model_1\"\n",
      "__________________________________________________________________________________________________\n",
      "Layer (type)                    Output Shape         Param #     Connected to                     \n",
      "==================================================================================================\n",
      "input_1 (InputLayer)            (None, 14)           0                                            \n",
      "__________________________________________________________________________________________________\n",
      "input_2 (InputLayer)            (None, 4)            0                                            \n",
      "__________________________________________________________________________________________________\n",
      "embedding_1 (Embedding)         (None, 14, 128)      2816        input_1[0][0]                    \n",
      "__________________________________________________________________________________________________\n",
      "embedding_2 (Embedding)         (None, 4, 128)       2816        input_2[0][0]                    \n",
      "__________________________________________________________________________________________________\n",
      "dropout_1 (Dropout)             (None, 14, 128)      0           embedding_1[0][0]                \n",
      "__________________________________________________________________________________________________\n",
      "dropout_2 (Dropout)             (None, 4, 128)       0           embedding_2[0][0]                \n",
      "__________________________________________________________________________________________________\n",
      "embedding_3 (Embedding)         (None, 14, 4)        88          input_1[0][0]                    \n",
      "__________________________________________________________________________________________________\n",
      "dot_1 (Dot)                     (None, 14, 4)        0           dropout_1[0][0]                  \n",
      "                                                                 dropout_2[0][0]                  \n",
      "__________________________________________________________________________________________________\n",
      "dropout_3 (Dropout)             (None, 14, 4)        0           embedding_3[0][0]                \n",
      "__________________________________________________________________________________________________\n",
      "add_1 (Add)                     (None, 14, 4)        0           dot_1[0][0]                      \n",
      "                                                                 dropout_3[0][0]                  \n",
      "__________________________________________________________________________________________________\n",
      "permute_1 (Permute)             (None, 4, 14)        0           add_1[0][0]                      \n",
      "__________________________________________________________________________________________________\n",
      "concatenate_1 (Concatenate)     (None, 4, 142)       0           permute_1[0][0]                  \n",
      "                                                                 dropout_2[0][0]                  \n",
      "__________________________________________________________________________________________________\n",
      "lstm_1 (LSTM)                   (None, 64)           52992       concatenate_1[0][0]              \n",
      "__________________________________________________________________________________________________\n",
      "dropout_4 (Dropout)             (None, 64)           0           lstm_1[0][0]                     \n",
      "__________________________________________________________________________________________________\n",
      "dense_1 (Dense)                 (None, 22)           1430        dropout_4[0][0]                  \n",
      "__________________________________________________________________________________________________\n",
      "activation_1 (Activation)       (None, 22)           0           dense_1[0][0]                    \n",
      "==================================================================================================\n",
      "Total params: 60,142\n",
      "Trainable params: 60,142\n",
      "Non-trainable params: 0\n",
      "__________________________________________________________________________________________________\n",
      "None\n"
     ]
    }
   ],
   "source": [
    "# 입력\n",
    "story_input = Input(shape=(story_maxlen,))\n",
    "question_input = Input(shape=(question_maxlen,))\n",
    "\n",
    "#스토리 인코더 임베딩\n",
    "story_encoder = Embedding(input_dim=vocab_size, output_dim=EMBEDDING_SIZE, input_length=story_maxlen)(story_input)\n",
    "story_encoder = Dropout(0.2)(story_encoder)\n",
    "\n",
    "#질문 인코더 임베딩\n",
    "question_encoder = Embedding(input_dim=vocab_size,output_dim=EMBEDDING_SIZE, input_length=question_maxlen)(question_input)\n",
    "question_encoder = Dropout(0.3)(question_encoder)\n",
    "\n",
    "#스토리와 질문의 일치\n",
    "match = dot([story_encoder, question_encoder], axes=[2, 2])\n",
    "\n",
    "#이야기를 질문의 벡터 공간으로 인코딩\n",
    "story_encoder_c = Embedding(input_dim=vocab_size,output_dim=question_maxlen, input_length=story_maxlen)(story_input)\n",
    "story_encoder_c = Dropout(0.3)(story_encoder_c)\n",
    "\n",
    "#일치한 내용과 스토리 벡터 결합\n",
    "response = add([match, story_encoder_c])\n",
    "response = Permute((2, 1))(response)\n",
    "\n",
    "# 응답과 질문 벡터를 답변 공간에 결합\n",
    "answer = concatenate([response, question_encoder], axis=-1)\n",
    "answer = LSTM(LATENT_SIZE)(answer)\n",
    "answer = Dropout(0.2)(answer)\n",
    "answer = Dense(vocab_size)(answer)\n",
    "output = Activation(\"softmax\")(answer)\n",
    "\n",
    "model = Model(inputs=[story_input, question_input], outputs=output)\n",
    "model.compile(optimizer=\"adam\", loss=\"categorical_crossentropy\",metrics=[\"accuracy\"])\n",
    "\n",
    "print (model.summary())"
   ]
  },
  {
   "cell_type": "code",
   "execution_count": 11,
   "metadata": {},
   "outputs": [
    {
     "name": "stderr",
     "output_type": "stream",
     "text": [
      "/Users/apple/opt/anaconda3/lib/python3.8/site-packages/tensorflow/python/framework/indexed_slices.py:433: UserWarning: Converting sparse IndexedSlices to a dense Tensor of unknown shape. This may consume a large amount of memory.\n",
      "  warnings.warn(\n"
     ]
    },
    {
     "name": "stdout",
     "output_type": "stream",
     "text": [
      "Train on 10000 samples, validate on 10000 samples\n",
      "Epoch 1/40\n",
      "10000/10000 [==============================] - 2s 237us/step - loss: 2.0125 - accuracy: 0.1904 - val_loss: 1.6702 - val_accuracy: 0.2594\n",
      "Epoch 2/40\n",
      "10000/10000 [==============================] - 1s 138us/step - loss: 1.6534 - accuracy: 0.2932 - val_loss: 1.5696 - val_accuracy: 0.3622\n",
      "Epoch 3/40\n",
      "10000/10000 [==============================] - 2s 151us/step - loss: 1.5261 - accuracy: 0.4121 - val_loss: 1.4160 - val_accuracy: 0.5209\n",
      "Epoch 4/40\n",
      "10000/10000 [==============================] - 1s 138us/step - loss: 1.4140 - accuracy: 0.5047 - val_loss: 1.3324 - val_accuracy: 0.5305\n",
      "Epoch 5/40\n",
      "10000/10000 [==============================] - 1s 137us/step - loss: 1.3494 - accuracy: 0.5179 - val_loss: 1.2863 - val_accuracy: 0.5390\n",
      "Epoch 6/40\n",
      "10000/10000 [==============================] - 1s 137us/step - loss: 1.3034 - accuracy: 0.5195 - val_loss: 1.2454 - val_accuracy: 0.5421\n",
      "Epoch 7/40\n",
      "10000/10000 [==============================] - 1s 136us/step - loss: 1.2689 - accuracy: 0.5319 - val_loss: 1.2229 - val_accuracy: 0.5421\n",
      "Epoch 8/40\n",
      "10000/10000 [==============================] - 1s 135us/step - loss: 1.2550 - accuracy: 0.5257 - val_loss: 1.2074 - val_accuracy: 0.5443\n",
      "Epoch 9/40\n",
      "10000/10000 [==============================] - 1s 140us/step - loss: 1.2493 - accuracy: 0.5228 - val_loss: 1.2010 - val_accuracy: 0.5500\n",
      "Epoch 10/40\n",
      "10000/10000 [==============================] - 1s 140us/step - loss: 1.2261 - accuracy: 0.5423 - val_loss: 1.1662 - val_accuracy: 0.5764\n",
      "Epoch 11/40\n",
      "10000/10000 [==============================] - 1s 130us/step - loss: 1.1841 - accuracy: 0.5803 - val_loss: 1.0889 - val_accuracy: 0.6545\n",
      "Epoch 12/40\n",
      "10000/10000 [==============================] - 1s 105us/step - loss: 1.0939 - accuracy: 0.6465 - val_loss: 0.9761 - val_accuracy: 0.7042\n",
      "Epoch 13/40\n",
      "10000/10000 [==============================] - 1s 103us/step - loss: 0.9686 - accuracy: 0.7063 - val_loss: 0.8113 - val_accuracy: 0.7629\n",
      "Epoch 14/40\n",
      "10000/10000 [==============================] - 1s 102us/step - loss: 0.8265 - accuracy: 0.7511 - val_loss: 0.6884 - val_accuracy: 0.7877\n",
      "Epoch 15/40\n",
      "10000/10000 [==============================] - 1s 103us/step - loss: 0.7358 - accuracy: 0.7758 - val_loss: 0.6167 - val_accuracy: 0.7895\n",
      "Epoch 16/40\n",
      "10000/10000 [==============================] - 1s 102us/step - loss: 0.6804 - accuracy: 0.7769 - val_loss: 0.5653 - val_accuracy: 0.7914\n",
      "Epoch 17/40\n",
      "10000/10000 [==============================] - 1s 102us/step - loss: 0.6275 - accuracy: 0.7848 - val_loss: 0.5329 - val_accuracy: 0.7946\n",
      "Epoch 18/40\n",
      "10000/10000 [==============================] - 1s 114us/step - loss: 0.5965 - accuracy: 0.7917 - val_loss: 0.5108 - val_accuracy: 0.8000\n",
      "Epoch 19/40\n",
      "10000/10000 [==============================] - 1s 102us/step - loss: 0.5747 - accuracy: 0.7898 - val_loss: 0.4925 - val_accuracy: 0.8025\n",
      "Epoch 20/40\n",
      "10000/10000 [==============================] - 1s 103us/step - loss: 0.5628 - accuracy: 0.7904 - val_loss: 0.4801 - val_accuracy: 0.8062\n",
      "Epoch 21/40\n",
      "10000/10000 [==============================] - 1s 102us/step - loss: 0.5467 - accuracy: 0.7945 - val_loss: 0.4727 - val_accuracy: 0.8075\n",
      "Epoch 22/40\n",
      "10000/10000 [==============================] - 1s 104us/step - loss: 0.5332 - accuracy: 0.7970 - val_loss: 0.4627 - val_accuracy: 0.8100\n",
      "Epoch 23/40\n",
      "10000/10000 [==============================] - 1s 103us/step - loss: 0.5275 - accuracy: 0.7980 - val_loss: 0.4561 - val_accuracy: 0.8119\n",
      "Epoch 24/40\n",
      "10000/10000 [==============================] - 1s 104us/step - loss: 0.5170 - accuracy: 0.7995 - val_loss: 0.4541 - val_accuracy: 0.8122\n",
      "Epoch 25/40\n",
      "10000/10000 [==============================] - 1s 103us/step - loss: 0.5098 - accuracy: 0.8018 - val_loss: 0.4466 - val_accuracy: 0.8187\n",
      "Epoch 26/40\n",
      "10000/10000 [==============================] - 1s 102us/step - loss: 0.5073 - accuracy: 0.8003 - val_loss: 0.4408 - val_accuracy: 0.8211\n",
      "Epoch 27/40\n",
      "10000/10000 [==============================] - 1s 111us/step - loss: 0.4947 - accuracy: 0.8050 - val_loss: 0.4362 - val_accuracy: 0.8251\n",
      "Epoch 28/40\n",
      "10000/10000 [==============================] - 1s 122us/step - loss: 0.4921 - accuracy: 0.8066 - val_loss: 0.4332 - val_accuracy: 0.8266\n",
      "Epoch 29/40\n",
      "10000/10000 [==============================] - 1s 126us/step - loss: 0.4865 - accuracy: 0.8095 - val_loss: 0.4286 - val_accuracy: 0.8296\n",
      "Epoch 30/40\n",
      "10000/10000 [==============================] - 1s 124us/step - loss: 0.4769 - accuracy: 0.8085 - val_loss: 0.4232 - val_accuracy: 0.8328\n",
      "Epoch 31/40\n",
      "10000/10000 [==============================] - 1s 122us/step - loss: 0.4748 - accuracy: 0.8083 - val_loss: 0.4209 - val_accuracy: 0.8332\n",
      "Epoch 32/40\n",
      "10000/10000 [==============================] - 1s 111us/step - loss: 0.4709 - accuracy: 0.8122 - val_loss: 0.4186 - val_accuracy: 0.8361\n",
      "Epoch 33/40\n",
      "10000/10000 [==============================] - 1s 105us/step - loss: 0.4641 - accuracy: 0.8170 - val_loss: 0.4142 - val_accuracy: 0.8350\n",
      "Epoch 34/40\n",
      "10000/10000 [==============================] - 1s 105us/step - loss: 0.4618 - accuracy: 0.8147 - val_loss: 0.4099 - val_accuracy: 0.8374\n",
      "Epoch 35/40\n",
      "10000/10000 [==============================] - 1s 105us/step - loss: 0.4588 - accuracy: 0.8163 - val_loss: 0.4068 - val_accuracy: 0.8397\n",
      "Epoch 36/40\n",
      "10000/10000 [==============================] - 1s 116us/step - loss: 0.4551 - accuracy: 0.8150 - val_loss: 0.4028 - val_accuracy: 0.8406\n",
      "Epoch 37/40\n",
      "10000/10000 [==============================] - 1s 119us/step - loss: 0.4531 - accuracy: 0.8172 - val_loss: 0.3998 - val_accuracy: 0.8451\n",
      "Epoch 38/40\n",
      "10000/10000 [==============================] - 1s 116us/step - loss: 0.4488 - accuracy: 0.8225 - val_loss: 0.3972 - val_accuracy: 0.8456\n",
      "Epoch 39/40\n",
      "10000/10000 [==============================] - 1s 116us/step - loss: 0.4428 - accuracy: 0.8234 - val_loss: 0.3949 - val_accuracy: 0.8473\n",
      "Epoch 40/40\n",
      "10000/10000 [==============================] - 1s 107us/step - loss: 0.4391 - accuracy: 0.8233 - val_loss: 0.3897 - val_accuracy: 0.8527\n"
     ]
    }
   ],
   "source": [
    "# 모델 학습\n",
    "history = model.fit([Xstrain, Xqtrain], [Ytrain], batch_size=BATCH_SIZE, epochs=NUM_EPOCHS,validation_data=([Xstest, Xqtest], [Ytest]))"
   ]
  },
  {
   "cell_type": "code",
   "execution_count": 13,
   "metadata": {},
   "outputs": [
    {
     "name": "stdout",
     "output_type": "stream",
     "text": [
      "dict_keys(['val_loss', 'val_accuracy', 'loss', 'accuracy'])\n"
     ]
    }
   ],
   "source": [
    "print(history.history.keys())"
   ]
  },
  {
   "cell_type": "code",
   "execution_count": 14,
   "metadata": {},
   "outputs": [
    {
     "data": {
      "image/png": "[encoded data removed]",
      "text/plain": [
       "<Figure size 432x288 with 1 Axes>"
      ]
     },
     "metadata": {
      "needs_background": "light"
     },
     "output_type": "display_data"
    }
   ],
   "source": [
    "# 정확도와 손실도 플롯\n",
    "plt.title(\"Episodic Memory Q & A Accuracy\")\n",
    "plt.plot(history.history[\"accuracy\"], color=\"g\", label=\"train\")\n",
    "plt.plot(history.history[\"val_accuracy\"], color=\"r\", label=\"validation\")\n",
    "plt.legend(loc=\"best\")\n",
    "\n",
    "plt.show()"
   ]
  },
  {
   "cell_type": "code",
   "execution_count": 15,
   "metadata": {},
   "outputs": [],
   "source": [
    "# 레이블 예측 가져오기\n",
    "ytest = np.argmax(Ytest, axis=1)\n",
    "Ytest_ = model.predict([Xstest, Xqtest])\n",
    "ytest_ = np.argmax(Ytest_, axis=1)"
   ]
  },
  {
   "cell_type": "code",
   "execution_count": 16,
   "metadata": {},
   "outputs": [
    {
     "name": "stdout",
     "output_type": "stream",
     "text": [
      "sandra moved to the hallway . sandra journeyed to the office . where is sandra ? office office\n",
      "john went back to the bedroom . mary went to the garden . where is mary ? garden garden\n",
      "john travelled to the bedroom . daniel went to the hallway . where is sandra ? garden garden\n",
      "john went to the garden . sandra travelled to the bathroom . where is john ? garden garden\n",
      "sandra went to the bedroom . john went to the garden . where is mary ? bedroom kitchen\n",
      "mary went back to the hallway . sandra went back to the hallway . where is mary ? hallway hallway\n",
      "daniel moved to the hallway . sandra travelled to the bedroom . where is sandra ? bedroom bedroom\n",
      "daniel moved to the kitchen . mary went back to the office . where is mary ? office office\n",
      "mary went back to the bathroom . daniel moved to the office . where is mary ? bathroom bathroom\n",
      "mary went back to the hallway . daniel travelled to the kitchen . where is daniel ? kitchen kitchen\n"
     ]
    }
   ],
   "source": [
    "# 무작위로 질문을 선택하고 답변을 예측\n",
    "NUM_DISPLAY = 10\n",
    "for i in random.sample(range(Xstest.shape[0]),NUM_DISPLAY):\n",
    "    story = \" \".join([indx2word[x] for x in Xstest[i].tolist() if x != 0])\n",
    "    question = \" \".join([indx2word[x] for x in Xqtest[i].tolist()])\n",
    "    label = indx2word[ytest[i]]\n",
    "    prediction = indx2word[ytest_[i]]\n",
    "    \n",
    "    print(story, question, label, prediction)"
   ]
  },
  {
   "cell_type": "code",
   "execution_count": null,
   "metadata": {},
   "outputs": [],
   "source": []
  }
 ],
 "metadata": {
  "kernelspec": {
   "display_name": "Python 3",
   "language": "python",
   "name": "python3"
  },
  "language_info": {
   "codemirror_mode": {
    "name": "ipython",
    "version": 3
   },
   "file_extension": ".py",
   "mimetype": "text/x-python",
   "name": "python",
   "nbconvert_exporter": "python",
   "pygments_lexer": "ipython3",
   "version": "3.8.3"
  }
 },
 "nbformat": 4,
 "nbformat_minor": 4
}
